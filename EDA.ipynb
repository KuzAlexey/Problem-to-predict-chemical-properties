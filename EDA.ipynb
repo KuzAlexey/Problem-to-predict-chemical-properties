{
 "cells": [
  {
   "cell_type": "code",
   "execution_count": null,
   "id": "664cdea6",
   "metadata": {},
   "outputs": [],
   "source": [
    "1.4178, 2**x\n",
    "1.4184, 3**x\n",
    "1.4197, 1.7**x\n",
    "1.4191, 2.1\n",
    "\n",
    "1.405 - all sum\n",
    "1.394 - after sum\n",
    "1.3984 - all + after sum\n",
    "\n",
    "1.385 - omawa\n",
    "1.3850 - omawa + ncnt, Lasso, alpha = 0.01, max_iter=10000\n",
    "1.3848 - omawa + ncnt + sg, Lasso, alpha = 0.01, max_iter=10000\n",
    "1.3838 - omawa + ncnt + 2^(sg + sum(sl)), Lasso, alpha = 0.007, max_iter=10000\n",
    "1.3814 - omawa + ncnt + (sum(sl)+sg) + sum(cnt) + MEGABUST, alpha = 0.0099\n",
    "\n",
    "1.377 - "
   ]
  }
 ],
 "metadata": {
  "kernelspec": {
   "display_name": "Python 3 (ipykernel)",
   "language": "python",
   "name": "python3"
  },
  "language_info": {
   "codemirror_mode": {
    "name": "ipython",
    "version": 3
   },
   "file_extension": ".py",
   "mimetype": "text/x-python",
   "name": "python",
   "nbconvert_exporter": "python",
   "pygments_lexer": "ipython3",
   "version": "3.9.7"
  }
 },
 "nbformat": 4,
 "nbformat_minor": 5
}
